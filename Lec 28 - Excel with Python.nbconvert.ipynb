{
 "cells": [
  {
   "cell_type": "code",
   "execution_count": 1,
   "id": "778b102a",
   "metadata": {
    "collapsed": false
   },
   "outputs": [],
   "source": [
    "#Now we'll learn how to work with excel files"
   ]
  },
  {
   "cell_type": "code",
   "execution_count": 2,
   "id": "b4e1b530",
   "metadata": {
    "collapsed": false
   },
   "outputs": [
    {
     "data": {
      "text/plain": [
       "'\\nIMPORTANT NOTE: NEED TO HAVE xlrd AND openpyxl INSTALLED!!!\\n'"
      ]
     },
     "execution_count": 2,
     "metadata": {},
     "output_type": "execute_result"
    }
   ],
   "source": [
    "\"\"\"\n",
    "IMPORTANT NOTE: NEED TO HAVE xlrd AND openpyxl INSTALLED!!!\n",
    "\"\"\""
   ]
  },
  {
   "cell_type": "code",
   "execution_count": 2,
   "id": "0bf87619",
   "metadata": {
    "collapsed": false
   },
   "outputs": [],
   "source": [
    "import pandas as pd\n"
   ]
  },
  {
   "cell_type": "code",
   "execution_count": 7,
   "id": "63286310",
   "metadata": {
    "collapsed": false
   },
   "outputs": [],
   "source": [
    "# Open the excel file as an object\n",
    "xlsfile = pd.ExcelFile('Lec_28_test.xlsx')"
   ]
  },
  {
   "cell_type": "code",
   "execution_count": 8,
   "id": "0b23b502",
   "metadata": {
    "collapsed": false
   },
   "outputs": [],
   "source": [
    "# Parse the first sheet of the excel file and set as DataFrame\n",
    "dframe = xlsfile.parse('Sheet1')"
   ]
  },
  {
   "cell_type": "code",
   "execution_count": 9,
   "id": "aaba1bf0",
   "metadata": {
    "collapsed": false
   },
   "outputs": [
    {
     "data": {
      "text/html": [
       "<div style=\"max-height:1000px;max-width:1500px;overflow:auto;\">\n",
       "<table border=\"1\" class=\"dataframe\">\n",
       "  <thead>\n",
       "    <tr style=\"text-align: right;\">\n",
       "      <th></th>\n",
       "      <th>This is a test</th>\n",
       "      <th>Unnamed: 1</th>\n",
       "      <th>Unnamed: 2</th>\n",
       "    </tr>\n",
       "  </thead>\n",
       "  <tbody>\n",
       "    <tr>\n",
       "      <th>0</th>\n",
       "      <td>  23</td>\n",
       "      <td> 6678</td>\n",
       "      <td>  456</td>\n",
       "    </tr>\n",
       "    <tr>\n",
       "      <th>1</th>\n",
       "      <td> 234</td>\n",
       "      <td>  678</td>\n",
       "      <td>  456</td>\n",
       "    </tr>\n",
       "    <tr>\n",
       "      <th>2</th>\n",
       "      <td> 234</td>\n",
       "      <td>    7</td>\n",
       "      <td>  345</td>\n",
       "    </tr>\n",
       "    <tr>\n",
       "      <th>3</th>\n",
       "      <td>  34</td>\n",
       "      <td>   56</td>\n",
       "      <td>  234</td>\n",
       "    </tr>\n",
       "    <tr>\n",
       "      <th>4</th>\n",
       "      <td>   5</td>\n",
       "      <td>  456</td>\n",
       "      <td> 4365</td>\n",
       "    </tr>\n",
       "  </tbody>\n",
       "</table>\n",
       "</div>"
      ],
      "text/plain": [
       "   This is a test  Unnamed: 1  Unnamed: 2\n",
       "0              23        6678         456\n",
       "1             234         678         456\n",
       "2             234           7         345\n",
       "3              34          56         234\n",
       "4               5         456        4365"
      ]
     },
     "execution_count": 9,
     "metadata": {},
     "output_type": "execute_result"
    }
   ],
   "source": [
    "#Show!\n",
    "dframe"
   ]
  },
  {
   "cell_type": "code",
   "execution_count": 10,
   "id": "1b8e26cf",
   "metadata": {
    "collapsed": false
   },
   "outputs": [],
   "source": [
    "#Now we know how to open various file types! Great!\n",
    "#Next well learn about various DataFrame Techniques!"
   ]
  },
  {
   "cell_type": "code",
   "execution_count": null,
   "id": "58f8ccbf",
   "metadata": {
    "collapsed": false
   },
   "outputs": [],
   "source": []
  }
 ],
 "metadata": {},
 "nbformat": 4,
 "nbformat_minor": 5
}
