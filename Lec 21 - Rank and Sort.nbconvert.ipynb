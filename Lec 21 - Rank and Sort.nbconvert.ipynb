{
 "cells": [
  {
   "cell_type": "code",
   "execution_count": 3,
   "id": "c79b25c9",
   "metadata": {
    "collapsed": false
   },
   "outputs": [],
   "source": [
    "import numpy as np\n",
    "from pandas import Series,DataFrame\n",
    "import pandas as pd"
   ]
  },
  {
   "cell_type": "code",
   "execution_count": 4,
   "id": "f4a23d83",
   "metadata": {
    "collapsed": false
   },
   "outputs": [
    {
     "data": {
      "text/plain": [
       "C    0\n",
       "A    1\n",
       "B    2\n",
       "dtype: int64"
      ]
     },
     "execution_count": 4,
     "metadata": {},
     "output_type": "execute_result"
    }
   ],
   "source": [
    "#Sorting by index\n",
    "ser1 = Series(range(3),index=['C','A','B'])\n",
    "\n",
    "#show\n",
    "ser1"
   ]
  },
  {
   "cell_type": "code",
   "execution_count": 21,
   "id": "1df699de",
   "metadata": {},
   "outputs": [
    {
     "data": {
      "text/plain": [
       "C    1.0\n",
       "A    2.0\n",
       "B    3.0\n",
       "dtype: float64"
      ]
     },
     "execution_count": 21,
     "metadata": {},
     "output_type": "execute_result"
    }
   ],
   "source": [
    "ser1.rank()"
   ]
  },
  {
   "cell_type": "code",
   "execution_count": 30,
   "id": "e9c7c6e1",
   "metadata": {},
   "outputs": [
    {
     "data": {
      "text/plain": [
       "B    3.0\n",
       "A    2.0\n",
       "C    1.0\n",
       "dtype: float64"
      ]
     },
     "execution_count": 30,
     "metadata": {},
     "output_type": "execute_result"
    }
   ],
   "source": [
    "ser3 = ser1.sort_values(ascending=False)\n",
    "ser3.rank()\n"
   ]
  },
  {
   "cell_type": "code",
   "execution_count": 17,
   "id": "7169483d",
   "metadata": {
    "collapsed": false
   },
   "outputs": [
    {
     "data": {
      "text/plain": [
       "A    1\n",
       "B    2\n",
       "C    0\n",
       "dtype: int64"
      ]
     },
     "execution_count": 17,
     "metadata": {},
     "output_type": "execute_result"
    }
   ],
   "source": [
    "#Now sort_index\n",
    "ser1.sort_index()"
   ]
  },
  {
   "cell_type": "code",
   "execution_count": 19,
   "id": "08c75934",
   "metadata": {
    "collapsed": false
   },
   "outputs": [
    {
     "data": {
      "text/plain": [
       "C    0\n",
       "A    1\n",
       "B    2\n",
       "dtype: int64"
      ]
     },
     "execution_count": 19,
     "metadata": {},
     "output_type": "execute_result"
    }
   ],
   "source": [
    "#Can sort a Series by its values\n",
    "ser1.sort_values()"
   ]
  },
  {
   "cell_type": "code",
   "execution_count": null,
   "id": "655b25f7",
   "metadata": {
    "collapsed": false
   },
   "outputs": [
    {
     "data": {
      "text/plain": [
       "0    0.524553\n",
       "1   -1.987343\n",
       "2   -0.883902\n",
       "3   -0.875829\n",
       "4    0.216089\n",
       "5    0.744837\n",
       "6   -0.761465\n",
       "7    0.792798\n",
       "8   -0.144650\n",
       "9    0.100972\n",
       "dtype: float64"
      ]
     },
     "execution_count": 10,
     "metadata": {},
     "output_type": "execute_result"
    }
   ],
   "source": [
    "#Lets see how ranking works\n",
    "\n",
    "from numpy.random import randn\n",
    "ser2 = Series(randn(10))\n",
    "\n",
    "#Show\n",
    "ser2"
   ]
  },
  {
   "cell_type": "code",
   "execution_count": null,
   "id": "29a0b12b",
   "metadata": {
    "collapsed": false
   },
   "outputs": [
    {
     "data": {
      "text/plain": [
       "0     8\n",
       "1     1\n",
       "2     2\n",
       "3     3\n",
       "4     7\n",
       "5     9\n",
       "6     4\n",
       "7    10\n",
       "8     5\n",
       "9     6\n",
       "dtype: float64"
      ]
     },
     "execution_count": 11,
     "metadata": {},
     "output_type": "execute_result"
    }
   ],
   "source": [
    "#This will show you the rank used if you sort the series\n",
    "ser2.rank()"
   ]
  },
  {
   "cell_type": "code",
   "execution_count": null,
   "id": "9002c66a",
   "metadata": {
    "collapsed": false
   },
   "outputs": [
    {
     "data": {
      "text/plain": [
       "1   -1.987343\n",
       "2   -0.883902\n",
       "3   -0.875829\n",
       "6   -0.761465\n",
       "8   -0.144650\n",
       "9    0.100972\n",
       "4    0.216089\n",
       "0    0.524553\n",
       "5    0.744837\n",
       "7    0.792798\n",
       "dtype: float64"
      ]
     },
     "execution_count": 13,
     "metadata": {},
     "output_type": "execute_result"
    }
   ],
   "source": [
    "#Lets sort it now\n",
    "ser2.sort()\n",
    "\n",
    "#Show\n",
    "ser2"
   ]
  },
  {
   "cell_type": "code",
   "execution_count": null,
   "id": "2d9cf7fe",
   "metadata": {
    "collapsed": false
   },
   "outputs": [
    {
     "data": {
      "text/plain": [
       "1     1\n",
       "2     2\n",
       "3     3\n",
       "6     4\n",
       "8     5\n",
       "9     6\n",
       "4     7\n",
       "0     8\n",
       "5     9\n",
       "7    10\n",
       "dtype: float64"
      ]
     },
     "execution_count": 15,
     "metadata": {},
     "output_type": "execute_result"
    }
   ],
   "source": [
    "#After sorting let's check the rank and see iof it makes sense\n",
    "ser2.rank()"
   ]
  },
  {
   "cell_type": "code",
   "execution_count": null,
   "id": "98c900b9",
   "metadata": {
    "collapsed": false
   },
   "outputs": [],
   "source": [
    "#On the left column we see th original index value and on the right we see it's rank!"
   ]
  },
  {
   "cell_type": "code",
   "execution_count": null,
   "id": "45950117",
   "metadata": {
    "collapsed": false
   },
   "outputs": [],
   "source": [
    "#Next we'll learn about using descriptive statistics on dataframes!"
   ]
  }
 ],
 "metadata": {
  "kernelspec": {
   "display_name": "Python 3",
   "language": "python",
   "name": "python3"
  },
  "language_info": {
   "codemirror_mode": {
    "name": "ipython",
    "version": 3
   },
   "file_extension": ".py",
   "mimetype": "text/x-python",
   "name": "python",
   "nbconvert_exporter": "python",
   "pygments_lexer": "ipython3",
   "version": "3.10.8"
  },
  "vscode": {
   "interpreter": {
    "hash": "07cbd848bea625f9b9153e43fde6af22df1988fcf26309669ff975f942648ca0"
   }
  }
 },
 "nbformat": 4,
 "nbformat_minor": 5
}
