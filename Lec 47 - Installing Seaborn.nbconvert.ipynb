{
 "cells": [
  {
   "cell_type": "markdown",
   "id": "b2dcb2cc",
   "metadata": {},
   "source": [
    "To install file the directions at the following link, you should be able to use a simple pip install.\n",
    "Remember to install the dependencies!"
   ]
  },
  {
   "cell_type": "markdown",
   "id": "4782dcc4",
   "metadata": {},
   "source": [
    "http://stanford.edu/~mwaskom/software/seaborn/installing.html"
   ]
  },
  {
   "cell_type": "code",
   "execution_count": null,
   "id": "e9567e60",
   "metadata": {
    "collapsed": false
   },
   "outputs": [],
   "source": []
  }
 ],
 "metadata": {},
 "nbformat": 4,
 "nbformat_minor": 5
}
